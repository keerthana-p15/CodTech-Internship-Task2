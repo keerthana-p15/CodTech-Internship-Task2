{
  "nbformat": 4,
  "nbformat_minor": 0,
  "metadata": {
    "colab": {
      "provenance": []
    },
    "kernelspec": {
      "name": "python3",
      "display_name": "Python 3"
    },
    "language_info": {
      "name": "python"
    }
  },
  "cells": [
    {
      "cell_type": "code",
      "execution_count": 1,
      "metadata": {
        "colab": {
          "base_uri": "https://localhost:8080/",
          "height": 17
        },
        "id": "MTQh_UNKKC1B",
        "outputId": "afd0fd43-8ce3-4cfb-8a2f-0fb7257ae1b5"
      },
      "outputs": [
        {
          "output_type": "display_data",
          "data": {
            "text/plain": [
              "<IPython.core.display.Javascript object>"
            ],
            "application/javascript": [
              "\n",
              "    async function download(id, filename, size) {\n",
              "      if (!google.colab.kernel.accessAllowed) {\n",
              "        return;\n",
              "      }\n",
              "      const div = document.createElement('div');\n",
              "      const label = document.createElement('label');\n",
              "      label.textContent = `Downloading \"${filename}\": `;\n",
              "      div.appendChild(label);\n",
              "      const progress = document.createElement('progress');\n",
              "      progress.max = size;\n",
              "      div.appendChild(progress);\n",
              "      document.body.appendChild(div);\n",
              "\n",
              "      const buffers = [];\n",
              "      let downloaded = 0;\n",
              "\n",
              "      const channel = await google.colab.kernel.comms.open(id);\n",
              "      // Send a message to notify the kernel that we're ready.\n",
              "      channel.send({})\n",
              "\n",
              "      for await (const message of channel.messages) {\n",
              "        // Send a message to notify the kernel that we're ready.\n",
              "        channel.send({})\n",
              "        if (message.buffers) {\n",
              "          for (const buffer of message.buffers) {\n",
              "            buffers.push(buffer);\n",
              "            downloaded += buffer.byteLength;\n",
              "            progress.value = downloaded;\n",
              "          }\n",
              "        }\n",
              "      }\n",
              "      const blob = new Blob(buffers, {type: 'application/binary'});\n",
              "      const a = document.createElement('a');\n",
              "      a.href = window.URL.createObjectURL(blob);\n",
              "      a.download = filename;\n",
              "      div.appendChild(a);\n",
              "      a.click();\n",
              "      div.remove();\n",
              "    }\n",
              "  "
            ]
          },
          "metadata": {}
        },
        {
          "output_type": "display_data",
          "data": {
            "text/plain": [
              "<IPython.core.display.Javascript object>"
            ],
            "application/javascript": [
              "download(\"download_3ee2b295-53db-40a1-8c3c-1f27bc3f2532\", \"sales_data.csv\", 96)"
            ]
          },
          "metadata": {}
        }
      ],
      "source": [
        "from google.colab import files\n",
        "\n",
        "# Create sample CSV\n",
        "data = \"\"\"Name,Product,Price\n",
        "Alice,Shoes,1200\n",
        "Bob,Shirt,800\n",
        "Charlie,Bag,1500\n",
        "David,Watch,2000\n",
        "Eva,Hat,500\n",
        "\"\"\"\n",
        "\n",
        "with open(\"sales_data.csv\", \"w\") as f:\n",
        "    f.write(data)\n",
        "\n",
        "# Download it locally (optional)\n",
        "files.download(\"sales_data.csv\")"
      ]
    },
    {
      "cell_type": "code",
      "source": [
        "!pip install fpdf"
      ],
      "metadata": {
        "colab": {
          "base_uri": "https://localhost:8080/"
        },
        "id": "g5J7FX-KL476",
        "outputId": "bd627b35-f3b2-4405-9d59-96ee218be1ea"
      },
      "execution_count": 2,
      "outputs": [
        {
          "output_type": "stream",
          "name": "stdout",
          "text": [
            "Collecting fpdf\n",
            "  Downloading fpdf-1.7.2.tar.gz (39 kB)\n",
            "  Preparing metadata (setup.py) ... \u001b[?25l\u001b[?25hdone\n",
            "Building wheels for collected packages: fpdf\n",
            "  Building wheel for fpdf (setup.py) ... \u001b[?25l\u001b[?25hdone\n",
            "  Created wheel for fpdf: filename=fpdf-1.7.2-py2.py3-none-any.whl size=40704 sha256=fa68b61832b867c75d796d28368f3434c0a2cb11c9ef9135949b506adcf8a8a8\n",
            "  Stored in directory: /root/.cache/pip/wheels/65/4f/66/bbda9866da446a72e206d6484cd97381cbc7859a7068541c36\n",
            "Successfully built fpdf\n",
            "Installing collected packages: fpdf\n",
            "Successfully installed fpdf-1.7.2\n"
          ]
        }
      ]
    },
    {
      "cell_type": "code",
      "source": [
        "import pandas as pd\n",
        "from fpdf import FPDF\n",
        "\n",
        "# Load CSV data\n",
        "df = pd.read_csv(\"sales_data.csv\")\n",
        "\n",
        "# Analyze the data\n",
        "total_sales = df[\"Price\"].sum()\n",
        "average_price = df[\"Price\"].mean()\n",
        "highest_price = df[\"Price\"].max()\n",
        "lowest_price = df[\"Price\"].min()\n",
        "total_products = len(df)\n",
        "\n",
        "# PDF Generation\n",
        "pdf = FPDF()\n",
        "pdf.add_page()\n",
        "pdf.set_font(\"Arial\", size=12)\n",
        "\n",
        "# Title\n",
        "pdf.set_font(\"Arial\", \"B\", 16)\n",
        "pdf.cell(200, 10, txt=\"Sales Report\", ln=1, align=\"C\")\n",
        "pdf.ln(10)\n",
        "\n",
        "# Summary\n",
        "pdf.set_font(\"Arial\", size=12)\n",
        "pdf.cell(200, 10, txt=f\"Total Products Sold: {total_products}\", ln=1)\n",
        "pdf.cell(200, 10, txt=f\"Total Sales Amount: Rs.{total_sales}\", ln=1)\n",
        "pdf.cell(200, 10, txt=f\"Average Price: Rs.{average_price:.2f}\", ln=1)\n",
        "pdf.cell(200, 10, txt=f\"Highest Price: Rs.{highest_price}\", ln=1)\n",
        "pdf.cell(200, 10, txt=f\"Lowest Price: Rs.{lowest_price}\", ln=1)\n",
        "\n",
        "pdf.ln(10)\n",
        "pdf.cell(200, 10, txt=\"Detailed Sales:\", ln=1)\n",
        "\n",
        "# Table Header\n",
        "pdf.set_font(\"Arial\", \"B\", 12)\n",
        "pdf.cell(60, 10, txt=\"Name\", border=1)\n",
        "pdf.cell(60, 10, txt=\"Product\", border=1)\n",
        "pdf.cell(60, 10, txt=\"Price\", border=1, ln=1)\n",
        "\n",
        "# Table Rows\n",
        "pdf.set_font(\"Arial\", size=12)\n",
        "for index, row in df.iterrows():\n",
        "    pdf.cell(60, 10, txt=row[\"Name\"], border=1)\n",
        "    pdf.cell(60, 10, txt=row[\"Product\"], border=1)\n",
        "    pdf.cell(60, 10, txt=str(row[\"Price\"]), border=1, ln=1)\n",
        "\n",
        "# Save PDF\n",
        "pdf.output(\"sales_report.pdf\")\n",
        "\n",
        "print(\"PDF Report generated successfully!\")"
      ],
      "metadata": {
        "colab": {
          "base_uri": "https://localhost:8080/"
        },
        "id": "uZDBM6AKMQJ2",
        "outputId": "6f56e6ff-9353-4aa7-843c-7808ea9479e2"
      },
      "execution_count": 4,
      "outputs": [
        {
          "output_type": "stream",
          "name": "stdout",
          "text": [
            "PDF Report generated successfully!\n"
          ]
        }
      ]
    },
    {
      "cell_type": "code",
      "source": [
        "from google.colab import files\n",
        "files.download(\"sales_report.pdf\")"
      ],
      "metadata": {
        "colab": {
          "base_uri": "https://localhost:8080/",
          "height": 17
        },
        "id": "esyspRVMTmvC",
        "outputId": "59afd92e-07fb-402f-84e2-e83eb6ea8963"
      },
      "execution_count": 5,
      "outputs": [
        {
          "output_type": "display_data",
          "data": {
            "text/plain": [
              "<IPython.core.display.Javascript object>"
            ],
            "application/javascript": [
              "\n",
              "    async function download(id, filename, size) {\n",
              "      if (!google.colab.kernel.accessAllowed) {\n",
              "        return;\n",
              "      }\n",
              "      const div = document.createElement('div');\n",
              "      const label = document.createElement('label');\n",
              "      label.textContent = `Downloading \"${filename}\": `;\n",
              "      div.appendChild(label);\n",
              "      const progress = document.createElement('progress');\n",
              "      progress.max = size;\n",
              "      div.appendChild(progress);\n",
              "      document.body.appendChild(div);\n",
              "\n",
              "      const buffers = [];\n",
              "      let downloaded = 0;\n",
              "\n",
              "      const channel = await google.colab.kernel.comms.open(id);\n",
              "      // Send a message to notify the kernel that we're ready.\n",
              "      channel.send({})\n",
              "\n",
              "      for await (const message of channel.messages) {\n",
              "        // Send a message to notify the kernel that we're ready.\n",
              "        channel.send({})\n",
              "        if (message.buffers) {\n",
              "          for (const buffer of message.buffers) {\n",
              "            buffers.push(buffer);\n",
              "            downloaded += buffer.byteLength;\n",
              "            progress.value = downloaded;\n",
              "          }\n",
              "        }\n",
              "      }\n",
              "      const blob = new Blob(buffers, {type: 'application/binary'});\n",
              "      const a = document.createElement('a');\n",
              "      a.href = window.URL.createObjectURL(blob);\n",
              "      a.download = filename;\n",
              "      div.appendChild(a);\n",
              "      a.click();\n",
              "      div.remove();\n",
              "    }\n",
              "  "
            ]
          },
          "metadata": {}
        },
        {
          "output_type": "display_data",
          "data": {
            "text/plain": [
              "<IPython.core.display.Javascript object>"
            ],
            "application/javascript": [
              "download(\"download_5cf22c55-7916-4294-b97f-95792daba8f6\", \"sales_report.pdf\", 1487)"
            ]
          },
          "metadata": {}
        }
      ]
    }
  ]
}